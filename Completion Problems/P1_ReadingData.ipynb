{
 "cells": [
  {
   "cell_type": "markdown",
   "id": "381124c0-2588-49d1-9284-8e8f650744c1",
   "metadata": {},
   "source": [
    "## Problem 1 (Reading data from source)"
   ]
  },
  {
   "cell_type": "markdown",
   "id": "da2c9027-7eec-4236-a0e4-99c097f3d331",
   "metadata": {},
   "source": [
    "For the first task, we want to analyze data from a baseball datasets. For this we need to get data from its csv source. \n",
    "\n",
    "**File Name**: \n",
    "\n",
    "baseball.csv\n",
    "\n",
    "**File Location**: \n",
    "\n",
    "datasets/\n",
    "\n",
    "How do we achieve this step? Write code to read and display the stored data.\n",
    "\n"
   ]
  },
  {
   "cell_type": "markdown",
   "id": "09107088-0695-4678-bdf7-4b98b5c890ad",
   "metadata": {},
   "source": [
    "<div class=\"alert alert-warning\" role=\"alert\">\n",
    "  Your Code below\n",
    "</div>"
   ]
  },
  {
   "cell_type": "code",
   "execution_count": null,
   "id": "443d0057-6513-4390-9d68-fb446d90300b",
   "metadata": {},
   "outputs": [],
   "source": []
  },
  {
   "cell_type": "code",
   "execution_count": null,
   "id": "4f1ab9fd-d1bb-424f-912d-abff0b12bde9",
   "metadata": {},
   "outputs": [],
   "source": []
  }
 ],
 "metadata": {
  "kernelspec": {
   "display_name": "Python 3 (ipykernel)",
   "language": "python",
   "name": "python3"
  },
  "language_info": {
   "codemirror_mode": {
    "name": "ipython",
    "version": 3
   },
   "file_extension": ".py",
   "mimetype": "text/x-python",
   "name": "python",
   "nbconvert_exporter": "python",
   "pygments_lexer": "ipython3",
   "version": "3.10.6"
  }
 },
 "nbformat": 4,
 "nbformat_minor": 5
}
