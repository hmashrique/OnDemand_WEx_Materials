{
 "cells": [
  {
   "cell_type": "markdown",
   "id": "887b1488",
   "metadata": {},
   "source": [
    "## Outliers: Problem Solving Notebook"
   ]
  },
  {
   "cell_type": "markdown",
   "id": "6cc03d37",
   "metadata": {},
   "source": [
    "### Problem description"
   ]
  },
  {
   "cell_type": "markdown",
   "id": "ae085dd7",
   "metadata": {},
   "source": [
    "We have a dataset which contains airbnb prices in the boston area. The dataset is named **boston_apartments.csv**. The dataset has many feature information but we are mostly concerned with the apartment costs in the dataset. \n",
    "\n",
    "We want to find out if there exists any outliers in the `cost` feature of the dataset. If there exists such outliers, we want to remove those outliers with appropriate measures(discussed in the worked examples) and check if the outlier removal worked properly.\n",
    "\n",
    "The dataset(boston_apartments.csv) is located in the **datasets** folder.\n",
    "\n",
    "From the boston apartments dataset, the goals are:\n",
    "\n",
    "- Find if there exists any outliers in the `cost` feature. (using visualizations, numeric analysis) \n",
    "- If there is, remove those outliers with proper steps and \n",
    "- Check if the outliers are properly removed from `cost` feature.\n",
    "\n",
    "\n",
    "Based on the worked examples we just studied, write appropriate code to find outliers and remove them. \n",
    "\n"
   ]
  },
  {
   "cell_type": "code",
   "execution_count": null,
   "id": "41656ae2-f841-4e8e-91e7-09df1946213f",
   "metadata": {},
   "outputs": [],
   "source": []
  }
 ],
 "metadata": {
  "kernelspec": {
   "display_name": "Python 3 (ipykernel)",
   "language": "python",
   "name": "python3"
  },
  "language_info": {
   "codemirror_mode": {
    "name": "ipython",
    "version": 3
   },
   "file_extension": ".py",
   "mimetype": "text/x-python",
   "name": "python",
   "nbconvert_exporter": "python",
   "pygments_lexer": "ipython3",
   "version": "3.10.6"
  }
 },
 "nbformat": 4,
 "nbformat_minor": 5
}
