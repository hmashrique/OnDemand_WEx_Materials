{
 "cells": [
  {
   "cell_type": "markdown",
   "id": "86212983-9838-4ef6-b7a6-08b38bb31898",
   "metadata": {},
   "source": [
    "### Try to complete the following tasks using the think aloud protocol:"
   ]
  },
  {
   "cell_type": "code",
   "execution_count": 2,
   "id": "8bf73ae1-7c7e-447e-b46d-f7c26c53dea2",
   "metadata": {},
   "outputs": [],
   "source": [
    "nums=[2,4,6,5,12,43,8]"
   ]
  },
  {
   "cell_type": "markdown",
   "id": "ba3b096e-4c2b-40be-bb4b-2a559e425552",
   "metadata": {},
   "source": [
    "Q. Print the array in reverse order.\n",
    "\n"
   ]
  },
  {
   "cell_type": "code",
   "execution_count": null,
   "id": "1291fe6f-a829-42d5-a725-49e3f471aed6",
   "metadata": {},
   "outputs": [],
   "source": [
    "# your algorithm/code here"
   ]
  },
  {
   "cell_type": "markdown",
   "id": "4e67b610-9578-421a-9c63-beb77661bb5d",
   "metadata": {},
   "source": [
    "Q. From the above array, find the highest number?"
   ]
  },
  {
   "cell_type": "code",
   "execution_count": 1,
   "id": "c54a468c-28fd-4728-8c66-2864955f59da",
   "metadata": {},
   "outputs": [],
   "source": [
    "# your algorithm/code here"
   ]
  },
  {
   "cell_type": "code",
   "execution_count": null,
   "id": "e5b95fa9-b372-4680-8047-262ab424ea50",
   "metadata": {},
   "outputs": [],
   "source": []
  }
 ],
 "metadata": {
  "kernelspec": {
   "display_name": "Python 3 (ipykernel)",
   "language": "python",
   "name": "python3"
  },
  "language_info": {
   "codemirror_mode": {
    "name": "ipython",
    "version": 3
   },
   "file_extension": ".py",
   "mimetype": "text/x-python",
   "name": "python",
   "nbconvert_exporter": "python",
   "pygments_lexer": "ipython3",
   "version": "3.10.6"
  }
 },
 "nbformat": 4,
 "nbformat_minor": 5
}
